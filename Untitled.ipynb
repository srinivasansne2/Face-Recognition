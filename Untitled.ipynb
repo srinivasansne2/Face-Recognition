{
 "cells": [
  {
   "cell_type": "code",
   "execution_count": 2,
   "id": "cb0fba25",
   "metadata": {},
   "outputs": [],
   "source": [
    "import face_recognition as fr\n",
    "import cv2 as cv\n",
    "from tkinter import Tk\n",
    "from tkinter.filedialog import askopenfilename\n",
    "import os"
   ]
  },
  {
   "cell_type": "code",
   "execution_count": 3,
   "id": "8ce089eb",
   "metadata": {},
   "outputs": [],
   "source": [
    "Tk().withdraw\n",
    "load_image=askopenfilename()\n",
    "\n",
    "target_image=fr.load_image_file(load_image)\n",
    "target_encoding=fr.face_encodings(target_image)\n"
   ]
  },
  {
   "cell_type": "code",
   "execution_count": 5,
   "id": "0d82f7a4",
   "metadata": {},
   "outputs": [],
   "source": [
    "def encode_faces(folder):\n",
    "    list_people_encoding=[]\n",
    "    \n",
    "    for filename in os.listdir(folder):\n",
    "        known_image=fr.load_image_file(f\"{folder}{filename}\")\n",
    "        known_encoding=fr.face_encodings(known_image)[0]\n",
    "        \n",
    "        list_people_encoding.appendpe((known_encoding,filename))\n",
    "        \n",
    "    return list_people_encoding\n",
    "\n",
    "def dind_target_face():\n",
    "    face_location=fr.face_location(target_image)\n",
    "    \n",
    "    for person in encode_faces(\"images/\"):\n",
    "        encode_faces=person[0]\n",
    "        filename=person[1]\n",
    "        \n",
    "        is_target_face=fr.compare_faces(encoded_face,target_encoding,tolarance=0.55)\n",
    "        print(f\"{is_target_face}{filename}\")\n",
    "        \n",
    "        if face_location:\n",
    "            face_number=0\n",
    "            for location in face_location:\n",
    "                if is_target_face[face_number]:\n",
    "                    label=filename\n",
    "                    create_frame(location,label)\n",
    "                    \n",
    "                face_number+=1\n",
    "                \n",
    "                \n",
    "                \n",
    "def create_frame(location,label):\n",
    "    top,right,bottom,left=location\n",
    "    cv.rectangle(target_image,(left,top),(right,bottom),(255,0,0),2)\n",
    "    cv.rectangle(target_image,(left,bottom+20),(right,bottom),(255,0,0),cv.FILLED)\n",
    "    cv.putText(target_image,lable,(left+3,bottom+14),cv.FONT_HERSHEY_DUPLEX,0.4,(255,255,255),1)\n",
    "    \n",
    "def render_image():\n",
    "    rgb_img=cv.cvtColor(target_image,cv.COLOR_BGR2RGB)\n",
    "    cv.imshow(\"Face Rec\",rgb_img)\n",
    "    cv.waitkey(0)\n",
    "    "
   ]
  },
  {
   "cell_type": "code",
   "execution_count": 6,
   "id": "ec014fbc",
   "metadata": {},
   "outputs": [
    {
     "ename": "NameError",
     "evalue": "name 'find_target_face' is not defined",
     "output_type": "error",
     "traceback": [
      "\u001b[1;31m---------------------------------------------------------------------------\u001b[0m",
      "\u001b[1;31mNameError\u001b[0m                                 Traceback (most recent call last)",
      "Input \u001b[1;32mIn [6]\u001b[0m, in \u001b[0;36m<cell line: 1>\u001b[1;34m()\u001b[0m\n\u001b[1;32m----> 1\u001b[0m \u001b[43mfind_target_face\u001b[49m()\n\u001b[0;32m      2\u001b[0m render_image()\n",
      "\u001b[1;31mNameError\u001b[0m: name 'find_target_face' is not defined"
     ]
    }
   ],
   "source": [
    "find_target_face()\n",
    "render_image()"
   ]
  },
  {
   "cell_type": "code",
   "execution_count": null,
   "id": "0f9e135f",
   "metadata": {},
   "outputs": [],
   "source": []
  }
 ],
 "metadata": {
  "kernelspec": {
   "display_name": "Python 3 (ipykernel)",
   "language": "python",
   "name": "python3"
  },
  "language_info": {
   "codemirror_mode": {
    "name": "ipython",
    "version": 3
   },
   "file_extension": ".py",
   "mimetype": "text/x-python",
   "name": "python",
   "nbconvert_exporter": "python",
   "pygments_lexer": "ipython3",
   "version": "3.9.12"
  }
 },
 "nbformat": 4,
 "nbformat_minor": 5
}
